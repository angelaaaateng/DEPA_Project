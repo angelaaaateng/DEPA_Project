{
 "cells": [
  {
   "cell_type": "markdown",
   "metadata": {},
   "source": [
    "# Coins Table\n",
    "#### Stores the cryptocurrency names, symbols & slugs as well as coin_id (PK)."
   ]
  },
  {
   "cell_type": "code",
   "execution_count": 2,
   "metadata": {},
   "outputs": [],
   "source": [
    "import pandas as pd\n",
    "import numpy as np\n",
    "import datetime as dt"
   ]
  },
  {
   "cell_type": "code",
   "execution_count": 196,
   "metadata": {},
   "outputs": [
    {
     "data": {
      "text/html": [
       "<div>\n",
       "<style scoped>\n",
       "    .dataframe tbody tr th:only-of-type {\n",
       "        vertical-align: middle;\n",
       "    }\n",
       "\n",
       "    .dataframe tbody tr th {\n",
       "        vertical-align: top;\n",
       "    }\n",
       "\n",
       "    .dataframe thead th {\n",
       "        text-align: right;\n",
       "    }\n",
       "</style>\n",
       "<table border=\"1\" class=\"dataframe\">\n",
       "  <thead>\n",
       "    <tr style=\"text-align: right;\">\n",
       "      <th></th>\n",
       "      <th>coin_id</th>\n",
       "      <th>name</th>\n",
       "      <th>symbol</th>\n",
       "      <th>slug</th>\n",
       "    </tr>\n",
       "  </thead>\n",
       "  <tbody>\n",
       "    <tr>\n",
       "      <th>0</th>\n",
       "      <td>0</td>\n",
       "      <td>0x</td>\n",
       "      <td>ZRX</td>\n",
       "      <td>0x</td>\n",
       "    </tr>\n",
       "    <tr>\n",
       "      <th>1</th>\n",
       "      <td>1</td>\n",
       "      <td>Aeternity</td>\n",
       "      <td>AE</td>\n",
       "      <td>aeternity</td>\n",
       "    </tr>\n",
       "    <tr>\n",
       "      <th>2</th>\n",
       "      <td>2</td>\n",
       "      <td>Aion</td>\n",
       "      <td>AION</td>\n",
       "      <td>aion</td>\n",
       "    </tr>\n",
       "    <tr>\n",
       "      <th>3</th>\n",
       "      <td>3</td>\n",
       "      <td>Ardor</td>\n",
       "      <td>ARDR</td>\n",
       "      <td>ardor</td>\n",
       "    </tr>\n",
       "    <tr>\n",
       "      <th>4</th>\n",
       "      <td>4</td>\n",
       "      <td>Ark</td>\n",
       "      <td>ARK</td>\n",
       "      <td>ark</td>\n",
       "    </tr>\n",
       "  </tbody>\n",
       "</table>\n",
       "</div>"
      ],
      "text/plain": [
       "   coin_id       name symbol       slug\n",
       "0        0         0x    ZRX         0x\n",
       "1        1  Aeternity     AE  aeternity\n",
       "2        2       Aion   AION       aion\n",
       "3        3      Ardor   ARDR      ardor\n",
       "4        4        Ark    ARK        ark"
      ]
     },
     "execution_count": 196,
     "metadata": {},
     "output_type": "execute_result"
    }
   ],
   "source": [
    "#Coins Table : top 100 currencies names/symbols/slugs\n",
    "df_names = pd.read_csv('/Users/nazihkalo/Desktop/UChicago_Analytics/Quarter 1/DEPA/Final Project/Data/crypto_names.csv')\n",
    "df_names.head()"
   ]
  },
  {
   "cell_type": "markdown",
   "metadata": {},
   "source": [
    "# Reddit Table\n",
    "#### Reddit posts from /r/Cryptocurrency from 2017-2019"
   ]
  },
  {
   "cell_type": "code",
   "execution_count": 5,
   "metadata": {},
   "outputs": [],
   "source": [
    "import praw\n",
    "from psaw import PushshiftAPI"
   ]
  },
  {
   "cell_type": "code",
   "execution_count": 6,
   "metadata": {},
   "outputs": [],
   "source": [
    "#Connect to reddit API\n",
    "reddit = praw.Reddit(client_id='GjfUHQE8AYnXLg', client_secret='PfbhtsXJGAAUNiEyHPRGPuFJ0ro', user_agent='DEPA_Project')\n",
    "api = PushshiftAPI()"
   ]
  },
  {
   "cell_type": "code",
   "execution_count": 7,
   "metadata": {},
   "outputs": [
    {
     "name": "stderr",
     "output_type": "stream",
     "text": [
      "/anaconda3/lib/python3.7/site-packages/psaw/PushshiftAPI.py:153: UserWarning: Unable to connect to pushshift.io. Retrying after backoff.\n",
      "  warnings.warn(\"Unable to connect to pushshift.io. Retrying after backoff.\")\n"
     ]
    }
   ],
   "source": [
    "#Extract all posts to /r/CryptoCurrency from 2017-2019\n",
    "\n",
    "start_epoch=int(dt.datetime(2017, 1, 1).timestamp())\n",
    "end_epoch = int(dt.datetime(2019, 1, 1).timestamp())\n",
    "\n",
    "reddit_data = pd.DataFrame(api.search_submissions(after=start_epoch,\n",
    "                            before=end_epoch,\n",
    "                            subreddit='CryptoCurrency',\n",
    "                            filter=['author', 'title', 'subreddit', 'num_comments', 'created', 'score']))"
   ]
  },
  {
   "cell_type": "code",
   "execution_count": 8,
   "metadata": {},
   "outputs": [],
   "source": [
    "#Convert the created_utc column to a date \n",
    "reddit_data['created_utc']=(pd.to_datetime(reddit_data['created_utc'],unit='s'))"
   ]
  },
  {
   "cell_type": "code",
   "execution_count": null,
   "metadata": {},
   "outputs": [],
   "source": [
    "#remove redundant columns\n",
    "reddit_data = reddit_data.drop(['created', 'd_'], axis = 1)"
   ]
  },
  {
   "cell_type": "code",
   "execution_count": 11,
   "metadata": {},
   "outputs": [],
   "source": [
    "#Rename index to post_id\n",
    "reddit_data.index.names = ['post_id']"
   ]
  },
  {
   "cell_type": "code",
   "execution_count": 76,
   "metadata": {},
   "outputs": [],
   "source": [
    "#convert created_utc to just a date\n",
    "reddit_data['created_utc'] = reddit_data['created_utc'].dt.date"
   ]
  },
  {
   "cell_type": "code",
   "execution_count": 77,
   "metadata": {},
   "outputs": [
    {
     "data": {
      "text/html": [
       "<div>\n",
       "<style scoped>\n",
       "    .dataframe tbody tr th:only-of-type {\n",
       "        vertical-align: middle;\n",
       "    }\n",
       "\n",
       "    .dataframe tbody tr th {\n",
       "        vertical-align: top;\n",
       "    }\n",
       "\n",
       "    .dataframe thead th {\n",
       "        text-align: right;\n",
       "    }\n",
       "</style>\n",
       "<table border=\"1\" class=\"dataframe\">\n",
       "  <thead>\n",
       "    <tr style=\"text-align: right;\">\n",
       "      <th></th>\n",
       "      <th>author</th>\n",
       "      <th>created_utc</th>\n",
       "      <th>num_comments</th>\n",
       "      <th>score</th>\n",
       "      <th>subreddit</th>\n",
       "      <th>title</th>\n",
       "    </tr>\n",
       "    <tr>\n",
       "      <th>post_id</th>\n",
       "      <th></th>\n",
       "      <th></th>\n",
       "      <th></th>\n",
       "      <th></th>\n",
       "      <th></th>\n",
       "      <th></th>\n",
       "    </tr>\n",
       "  </thead>\n",
       "  <tbody>\n",
       "    <tr>\n",
       "      <th>0</th>\n",
       "      <td>robertbint</td>\n",
       "      <td>2019-01-01</td>\n",
       "      <td>0</td>\n",
       "      <td>1</td>\n",
       "      <td>CryptoCurrency</td>\n",
       "      <td>Buy or Sell Bitcoins online - A Few Pointers a...</td>\n",
       "    </tr>\n",
       "    <tr>\n",
       "      <th>1</th>\n",
       "      <td>h214289</td>\n",
       "      <td>2019-01-01</td>\n",
       "      <td>0</td>\n",
       "      <td>1</td>\n",
       "      <td>CryptoCurrency</td>\n",
       "      <td>Dec 31 2018 Important Crypto News</td>\n",
       "    </tr>\n",
       "    <tr>\n",
       "      <th>2</th>\n",
       "      <td>coinmarshal</td>\n",
       "      <td>2019-01-01</td>\n",
       "      <td>5</td>\n",
       "      <td>1</td>\n",
       "      <td>CryptoCurrency</td>\n",
       "      <td>I am sharing Crypto with my WhatsApp buddies. ...</td>\n",
       "    </tr>\n",
       "    <tr>\n",
       "      <th>3</th>\n",
       "      <td>h1121900</td>\n",
       "      <td>2019-01-01</td>\n",
       "      <td>0</td>\n",
       "      <td>1</td>\n",
       "      <td>CryptoCurrency</td>\n",
       "      <td>Dec 31 2018 Important Crypto News</td>\n",
       "    </tr>\n",
       "    <tr>\n",
       "      <th>4</th>\n",
       "      <td>instasmarter</td>\n",
       "      <td>2019-01-01</td>\n",
       "      <td>13</td>\n",
       "      <td>1</td>\n",
       "      <td>CryptoCurrency</td>\n",
       "      <td>Best places to spend Bitcoin</td>\n",
       "    </tr>\n",
       "  </tbody>\n",
       "</table>\n",
       "</div>"
      ],
      "text/plain": [
       "               author created_utc  num_comments  score       subreddit  \\\n",
       "post_id                                                                  \n",
       "0          robertbint  2019-01-01             0      1  CryptoCurrency   \n",
       "1             h214289  2019-01-01             0      1  CryptoCurrency   \n",
       "2         coinmarshal  2019-01-01             5      1  CryptoCurrency   \n",
       "3            h1121900  2019-01-01             0      1  CryptoCurrency   \n",
       "4        instasmarter  2019-01-01            13      1  CryptoCurrency   \n",
       "\n",
       "                                                     title  \n",
       "post_id                                                     \n",
       "0        Buy or Sell Bitcoins online - A Few Pointers a...  \n",
       "1                        Dec 31 2018 Important Crypto News  \n",
       "2        I am sharing Crypto with my WhatsApp buddies. ...  \n",
       "3                        Dec 31 2018 Important Crypto News  \n",
       "4                             Best places to spend Bitcoin  "
      ]
     },
     "execution_count": 77,
     "metadata": {},
     "output_type": "execute_result"
    }
   ],
   "source": [
    "reddit_data.head()"
   ]
  },
  {
   "cell_type": "markdown",
   "metadata": {},
   "source": [
    "# Create reddit_coins Join Table \n",
    "#### Matches the reddit posts in reddit_data table to the coins in coins table"
   ]
  },
  {
   "cell_type": "code",
   "execution_count": 13,
   "metadata": {},
   "outputs": [],
   "source": [
    "#Zip the names into tuple of (name, slug, symbol)\n",
    "zipped_names = list(zip(df_names['name'],df_names['slug'],df_names['symbol']))\n",
    "\n",
    "#Create a search list - seperating the three terms with OR operator (|)\n",
    "search_list = []\n",
    "for (name, slug, symbol) in zipped_names:\n",
    "    listt = [name, slug, symbol]\n",
    "    pat = '|'.join(listt)\n",
    "    search_list.append(pat)"
   ]
  },
  {
   "cell_type": "code",
   "execution_count": 15,
   "metadata": {},
   "outputs": [],
   "source": [
    "#Add boolean columns\n",
    "import re\n",
    "dummy_df = pd.DataFrame(dict((name, reddit_data.title.str.contains(name, re.IGNORECASE))\n",
    "                             for name in search_list))"
   ]
  },
  {
   "cell_type": "code",
   "execution_count": 16,
   "metadata": {},
   "outputs": [
    {
     "data": {
      "text/html": [
       "<div>\n",
       "<style scoped>\n",
       "    .dataframe tbody tr th:only-of-type {\n",
       "        vertical-align: middle;\n",
       "    }\n",
       "\n",
       "    .dataframe tbody tr th {\n",
       "        vertical-align: top;\n",
       "    }\n",
       "\n",
       "    .dataframe thead th {\n",
       "        text-align: right;\n",
       "    }\n",
       "</style>\n",
       "<table border=\"1\" class=\"dataframe\">\n",
       "  <thead>\n",
       "    <tr style=\"text-align: right;\">\n",
       "      <th></th>\n",
       "      <th>0x|0x|ZRX</th>\n",
       "      <th>Aeternity|aeternity|AE</th>\n",
       "      <th>Aion|aion|AION</th>\n",
       "      <th>Ardor|ardor|ARDR</th>\n",
       "      <th>Ark|ark|ARK</th>\n",
       "      <th>Augur|augur|REP</th>\n",
       "      <th>Aurora|aurora|AOA</th>\n",
       "      <th>Bancor|bancor|BNT</th>\n",
       "      <th>Basic Attention Token|basic-attention-token|BAT</th>\n",
       "      <th>Binance Coin|binance-coin|BNB</th>\n",
       "      <th>...</th>\n",
       "      <th>VeChain|vechain|VET</th>\n",
       "      <th>Verge|verge|XVG</th>\n",
       "      <th>WAX|wax|WAX</th>\n",
       "      <th>Waltonchain|waltonchain|WTC</th>\n",
       "      <th>Wanchain|wanchain|WAN</th>\n",
       "      <th>Waves|waves|WAVES</th>\n",
       "      <th>XRP|ripple|XRP</th>\n",
       "      <th>Zcash|zcash|ZEC</th>\n",
       "      <th>Zilliqa|zilliqa|ZIL</th>\n",
       "      <th>aelf|aelf|ELF</th>\n",
       "    </tr>\n",
       "    <tr>\n",
       "      <th>post_id</th>\n",
       "      <th></th>\n",
       "      <th></th>\n",
       "      <th></th>\n",
       "      <th></th>\n",
       "      <th></th>\n",
       "      <th></th>\n",
       "      <th></th>\n",
       "      <th></th>\n",
       "      <th></th>\n",
       "      <th></th>\n",
       "      <th></th>\n",
       "      <th></th>\n",
       "      <th></th>\n",
       "      <th></th>\n",
       "      <th></th>\n",
       "      <th></th>\n",
       "      <th></th>\n",
       "      <th></th>\n",
       "      <th></th>\n",
       "      <th></th>\n",
       "      <th></th>\n",
       "    </tr>\n",
       "  </thead>\n",
       "  <tbody>\n",
       "    <tr>\n",
       "      <th>0</th>\n",
       "      <td>False</td>\n",
       "      <td>False</td>\n",
       "      <td>False</td>\n",
       "      <td>False</td>\n",
       "      <td>False</td>\n",
       "      <td>False</td>\n",
       "      <td>False</td>\n",
       "      <td>False</td>\n",
       "      <td>False</td>\n",
       "      <td>False</td>\n",
       "      <td>...</td>\n",
       "      <td>False</td>\n",
       "      <td>False</td>\n",
       "      <td>False</td>\n",
       "      <td>False</td>\n",
       "      <td>False</td>\n",
       "      <td>False</td>\n",
       "      <td>False</td>\n",
       "      <td>False</td>\n",
       "      <td>False</td>\n",
       "      <td>False</td>\n",
       "    </tr>\n",
       "    <tr>\n",
       "      <th>1</th>\n",
       "      <td>False</td>\n",
       "      <td>False</td>\n",
       "      <td>False</td>\n",
       "      <td>False</td>\n",
       "      <td>False</td>\n",
       "      <td>False</td>\n",
       "      <td>False</td>\n",
       "      <td>False</td>\n",
       "      <td>False</td>\n",
       "      <td>False</td>\n",
       "      <td>...</td>\n",
       "      <td>False</td>\n",
       "      <td>False</td>\n",
       "      <td>False</td>\n",
       "      <td>False</td>\n",
       "      <td>False</td>\n",
       "      <td>False</td>\n",
       "      <td>False</td>\n",
       "      <td>False</td>\n",
       "      <td>False</td>\n",
       "      <td>False</td>\n",
       "    </tr>\n",
       "    <tr>\n",
       "      <th>2</th>\n",
       "      <td>False</td>\n",
       "      <td>False</td>\n",
       "      <td>False</td>\n",
       "      <td>False</td>\n",
       "      <td>False</td>\n",
       "      <td>False</td>\n",
       "      <td>False</td>\n",
       "      <td>False</td>\n",
       "      <td>False</td>\n",
       "      <td>False</td>\n",
       "      <td>...</td>\n",
       "      <td>False</td>\n",
       "      <td>False</td>\n",
       "      <td>False</td>\n",
       "      <td>False</td>\n",
       "      <td>False</td>\n",
       "      <td>False</td>\n",
       "      <td>False</td>\n",
       "      <td>False</td>\n",
       "      <td>False</td>\n",
       "      <td>False</td>\n",
       "    </tr>\n",
       "    <tr>\n",
       "      <th>3</th>\n",
       "      <td>False</td>\n",
       "      <td>False</td>\n",
       "      <td>False</td>\n",
       "      <td>False</td>\n",
       "      <td>False</td>\n",
       "      <td>False</td>\n",
       "      <td>False</td>\n",
       "      <td>False</td>\n",
       "      <td>False</td>\n",
       "      <td>False</td>\n",
       "      <td>...</td>\n",
       "      <td>False</td>\n",
       "      <td>False</td>\n",
       "      <td>False</td>\n",
       "      <td>False</td>\n",
       "      <td>False</td>\n",
       "      <td>False</td>\n",
       "      <td>False</td>\n",
       "      <td>False</td>\n",
       "      <td>False</td>\n",
       "      <td>False</td>\n",
       "    </tr>\n",
       "    <tr>\n",
       "      <th>4</th>\n",
       "      <td>False</td>\n",
       "      <td>False</td>\n",
       "      <td>False</td>\n",
       "      <td>False</td>\n",
       "      <td>False</td>\n",
       "      <td>False</td>\n",
       "      <td>False</td>\n",
       "      <td>False</td>\n",
       "      <td>False</td>\n",
       "      <td>False</td>\n",
       "      <td>...</td>\n",
       "      <td>False</td>\n",
       "      <td>False</td>\n",
       "      <td>False</td>\n",
       "      <td>False</td>\n",
       "      <td>False</td>\n",
       "      <td>False</td>\n",
       "      <td>False</td>\n",
       "      <td>False</td>\n",
       "      <td>False</td>\n",
       "      <td>False</td>\n",
       "    </tr>\n",
       "  </tbody>\n",
       "</table>\n",
       "<p>5 rows × 100 columns</p>\n",
       "</div>"
      ],
      "text/plain": [
       "         0x|0x|ZRX  Aeternity|aeternity|AE  Aion|aion|AION  Ardor|ardor|ARDR  \\\n",
       "post_id                                                                        \n",
       "0            False                   False           False             False   \n",
       "1            False                   False           False             False   \n",
       "2            False                   False           False             False   \n",
       "3            False                   False           False             False   \n",
       "4            False                   False           False             False   \n",
       "\n",
       "         Ark|ark|ARK  Augur|augur|REP  Aurora|aurora|AOA  Bancor|bancor|BNT  \\\n",
       "post_id                                                                       \n",
       "0              False            False              False              False   \n",
       "1              False            False              False              False   \n",
       "2              False            False              False              False   \n",
       "3              False            False              False              False   \n",
       "4              False            False              False              False   \n",
       "\n",
       "         Basic Attention Token|basic-attention-token|BAT  \\\n",
       "post_id                                                    \n",
       "0                                                  False   \n",
       "1                                                  False   \n",
       "2                                                  False   \n",
       "3                                                  False   \n",
       "4                                                  False   \n",
       "\n",
       "         Binance Coin|binance-coin|BNB      ...        VeChain|vechain|VET  \\\n",
       "post_id                                     ...                              \n",
       "0                                False      ...                      False   \n",
       "1                                False      ...                      False   \n",
       "2                                False      ...                      False   \n",
       "3                                False      ...                      False   \n",
       "4                                False      ...                      False   \n",
       "\n",
       "         Verge|verge|XVG  WAX|wax|WAX  Waltonchain|waltonchain|WTC  \\\n",
       "post_id                                                              \n",
       "0                  False        False                        False   \n",
       "1                  False        False                        False   \n",
       "2                  False        False                        False   \n",
       "3                  False        False                        False   \n",
       "4                  False        False                        False   \n",
       "\n",
       "         Wanchain|wanchain|WAN  Waves|waves|WAVES  XRP|ripple|XRP  \\\n",
       "post_id                                                             \n",
       "0                        False              False           False   \n",
       "1                        False              False           False   \n",
       "2                        False              False           False   \n",
       "3                        False              False           False   \n",
       "4                        False              False           False   \n",
       "\n",
       "         Zcash|zcash|ZEC  Zilliqa|zilliqa|ZIL  aelf|aelf|ELF  \n",
       "post_id                                                       \n",
       "0                  False                False          False  \n",
       "1                  False                False          False  \n",
       "2                  False                False          False  \n",
       "3                  False                False          False  \n",
       "4                  False                False          False  \n",
       "\n",
       "[5 rows x 100 columns]"
      ]
     },
     "execution_count": 16,
     "metadata": {},
     "output_type": "execute_result"
    }
   ],
   "source": [
    "dummy_df.head()"
   ]
  },
  {
   "cell_type": "code",
   "execution_count": 17,
   "metadata": {},
   "outputs": [],
   "source": [
    "#Convert dummy columns into rows with post_id as the index\n",
    "i, j = np.where(dummy_df)\n",
    "\n",
    "coins_mentioned_series = pd.Series(dict(zip(zip(i, j), dummy_df.columns[j])))"
   ]
  },
  {
   "cell_type": "code",
   "execution_count": 30,
   "metadata": {},
   "outputs": [
    {
     "data": {
      "text/html": [
       "<div>\n",
       "<style scoped>\n",
       "    .dataframe tbody tr th:only-of-type {\n",
       "        vertical-align: middle;\n",
       "    }\n",
       "\n",
       "    .dataframe tbody tr th {\n",
       "        vertical-align: top;\n",
       "    }\n",
       "\n",
       "    .dataframe thead th {\n",
       "        text-align: right;\n",
       "    }\n",
       "</style>\n",
       "<table border=\"1\" class=\"dataframe\">\n",
       "  <thead>\n",
       "    <tr style=\"text-align: right;\">\n",
       "      <th></th>\n",
       "      <th>post_id</th>\n",
       "      <th>coin_id</th>\n",
       "    </tr>\n",
       "  </thead>\n",
       "  <tbody>\n",
       "    <tr>\n",
       "      <th>0</th>\n",
       "      <td>0</td>\n",
       "      <td>11</td>\n",
       "    </tr>\n",
       "    <tr>\n",
       "      <th>1</th>\n",
       "      <td>4</td>\n",
       "      <td>11</td>\n",
       "    </tr>\n",
       "    <tr>\n",
       "      <th>2</th>\n",
       "      <td>7</td>\n",
       "      <td>11</td>\n",
       "    </tr>\n",
       "    <tr>\n",
       "      <th>3</th>\n",
       "      <td>8</td>\n",
       "      <td>4</td>\n",
       "    </tr>\n",
       "    <tr>\n",
       "      <th>4</th>\n",
       "      <td>8</td>\n",
       "      <td>35</td>\n",
       "    </tr>\n",
       "  </tbody>\n",
       "</table>\n",
       "</div>"
      ],
      "text/plain": [
       "   post_id  coin_id\n",
       "0        0       11\n",
       "1        4       11\n",
       "2        7       11\n",
       "3        8        4\n",
       "4        8       35"
      ]
     },
     "execution_count": 30,
     "metadata": {},
     "output_type": "execute_result"
    }
   ],
   "source": [
    "#Create final join table between reddit and coins table. Rename columns of dataframe. \n",
    "coin_reddit_join = pd.DataFrame(coins_mentioned_series).reset_index()\n",
    "coin_reddit_join.columns = ['post_id', 'coin_id', 'coin_name']\n",
    "coin_reddit_join = coin_reddit_join.drop('coin_name', axis = 1)\n",
    "coin_reddit_join.head()"
   ]
  },
  {
   "cell_type": "markdown",
   "metadata": {},
   "source": [
    "# Pricing Table"
   ]
  },
  {
   "cell_type": "code",
   "execution_count": 55,
   "metadata": {},
   "outputs": [],
   "source": [
    "import requests\n",
    "import datetime\n",
    "import pandas as pd"
   ]
  },
  {
   "cell_type": "code",
   "execution_count": 56,
   "metadata": {},
   "outputs": [],
   "source": [
    "def daily_price_historical(symbol, comparison_symbol, all_data=True, limit=1, aggregate=1, exchange=''):\n",
    "    url = 'https://min-api.cryptocompare.com/data/histoday?fsym={}&tsym={}&limit={}&aggregate={}'\\\n",
    "            .format(symbol.upper(), comparison_symbol.upper(), limit, aggregate)\n",
    "    if exchange:\n",
    "        url += '&e={}'.format(exchange)\n",
    "    if all_data:\n",
    "        url += '&allData=true'\n",
    "    page = requests.get(url)\n",
    "    data = page.json()['Data']\n",
    "    df = pd.DataFrame(data)\n",
    "    df['timestamp'] = [datetime.datetime.fromtimestamp(d) for d in df.time]\n",
    "    return df"
   ]
  },
  {
   "cell_type": "code",
   "execution_count": 57,
   "metadata": {},
   "outputs": [],
   "source": [
    "pricing_list = []\n",
    "\n",
    "for symbol in list(df_names['symbol']):\n",
    "# initialise scraper with time interval\n",
    "    try:\n",
    "        df = daily_price_historical(symbol, 'USD')\n",
    "        df['name'] = symbol\n",
    "        pricing_list.append(df)\n",
    "    except:\n",
    "        df2 = pd.DataFrame(columns = df.columns)\n",
    "        pricing_list.append(df2)"
   ]
  },
  {
   "cell_type": "code",
   "execution_count": 59,
   "metadata": {},
   "outputs": [],
   "source": [
    "pricing_df = pd.concat(pricing_list)"
   ]
  },
  {
   "cell_type": "code",
   "execution_count": 65,
   "metadata": {},
   "outputs": [
    {
     "data": {
      "text/html": [
       "<div>\n",
       "<style scoped>\n",
       "    .dataframe tbody tr th:only-of-type {\n",
       "        vertical-align: middle;\n",
       "    }\n",
       "\n",
       "    .dataframe tbody tr th {\n",
       "        vertical-align: top;\n",
       "    }\n",
       "\n",
       "    .dataframe thead th {\n",
       "        text-align: right;\n",
       "    }\n",
       "</style>\n",
       "<table border=\"1\" class=\"dataframe\">\n",
       "  <thead>\n",
       "    <tr style=\"text-align: right;\">\n",
       "      <th></th>\n",
       "      <th>close</th>\n",
       "      <th>high</th>\n",
       "      <th>low</th>\n",
       "      <th>open</th>\n",
       "      <th>time</th>\n",
       "      <th>volumefrom</th>\n",
       "      <th>volumeto</th>\n",
       "      <th>timestamp</th>\n",
       "      <th>name</th>\n",
       "    </tr>\n",
       "  </thead>\n",
       "  <tbody>\n",
       "    <tr>\n",
       "      <th>0</th>\n",
       "      <td>0.06687</td>\n",
       "      <td>0.4444</td>\n",
       "      <td>0.06687</td>\n",
       "      <td>0.06950</td>\n",
       "      <td>1502409600</td>\n",
       "      <td>39437.24</td>\n",
       "      <td>2994.43</td>\n",
       "      <td>2017-08-10 19:00:00</td>\n",
       "      <td>ZRX</td>\n",
       "    </tr>\n",
       "    <tr>\n",
       "      <th>1</th>\n",
       "      <td>0.16250</td>\n",
       "      <td>0.1830</td>\n",
       "      <td>0.06687</td>\n",
       "      <td>0.06687</td>\n",
       "      <td>1502496000</td>\n",
       "      <td>6232.81</td>\n",
       "      <td>765.38</td>\n",
       "      <td>2017-08-11 19:00:00</td>\n",
       "      <td>ZRX</td>\n",
       "    </tr>\n",
       "    <tr>\n",
       "      <th>2</th>\n",
       "      <td>0.19000</td>\n",
       "      <td>0.3880</td>\n",
       "      <td>0.12500</td>\n",
       "      <td>0.16250</td>\n",
       "      <td>1502582400</td>\n",
       "      <td>10382.08</td>\n",
       "      <td>1885.11</td>\n",
       "      <td>2017-08-12 19:00:00</td>\n",
       "      <td>ZRX</td>\n",
       "    </tr>\n",
       "    <tr>\n",
       "      <th>3</th>\n",
       "      <td>0.32000</td>\n",
       "      <td>0.3300</td>\n",
       "      <td>0.13100</td>\n",
       "      <td>0.19000</td>\n",
       "      <td>1502668800</td>\n",
       "      <td>7936.82</td>\n",
       "      <td>1788.88</td>\n",
       "      <td>2017-08-13 19:00:00</td>\n",
       "      <td>ZRX</td>\n",
       "    </tr>\n",
       "    <tr>\n",
       "      <th>4</th>\n",
       "      <td>1.00000</td>\n",
       "      <td>1.8000</td>\n",
       "      <td>0.32000</td>\n",
       "      <td>0.32000</td>\n",
       "      <td>1502755200</td>\n",
       "      <td>3467.80</td>\n",
       "      <td>2905.58</td>\n",
       "      <td>2017-08-14 19:00:00</td>\n",
       "      <td>ZRX</td>\n",
       "    </tr>\n",
       "  </tbody>\n",
       "</table>\n",
       "</div>"
      ],
      "text/plain": [
       "     close    high      low     open        time  volumefrom  volumeto  \\\n",
       "0  0.06687  0.4444  0.06687  0.06950  1502409600    39437.24   2994.43   \n",
       "1  0.16250  0.1830  0.06687  0.06687  1502496000     6232.81    765.38   \n",
       "2  0.19000  0.3880  0.12500  0.16250  1502582400    10382.08   1885.11   \n",
       "3  0.32000  0.3300  0.13100  0.19000  1502668800     7936.82   1788.88   \n",
       "4  1.00000  1.8000  0.32000  0.32000  1502755200     3467.80   2905.58   \n",
       "\n",
       "            timestamp name  \n",
       "0 2017-08-10 19:00:00  ZRX  \n",
       "1 2017-08-11 19:00:00  ZRX  \n",
       "2 2017-08-12 19:00:00  ZRX  \n",
       "3 2017-08-13 19:00:00  ZRX  \n",
       "4 2017-08-14 19:00:00  ZRX  "
      ]
     },
     "execution_count": 65,
     "metadata": {},
     "output_type": "execute_result"
    }
   ],
   "source": [
    "pricing_df.head()"
   ]
  },
  {
   "cell_type": "code",
   "execution_count": 79,
   "metadata": {},
   "outputs": [],
   "source": [
    "pricing_df2 = pricing_df.merge(df_names[['symbol', 'coin_id']], how = 'left', left_on = 'name', right_on = 'symbol')\n",
    "pricing_df3 = pricing_df2.drop(['name', 'symbol', 'time'], axis = 1)"
   ]
  },
  {
   "cell_type": "code",
   "execution_count": 80,
   "metadata": {},
   "outputs": [],
   "source": [
    "pricing_df3['timestamp'] = pricing_df3['timestamp'].dt.date"
   ]
  },
  {
   "cell_type": "code",
   "execution_count": 81,
   "metadata": {},
   "outputs": [
    {
     "data": {
      "text/html": [
       "<div>\n",
       "<style scoped>\n",
       "    .dataframe tbody tr th:only-of-type {\n",
       "        vertical-align: middle;\n",
       "    }\n",
       "\n",
       "    .dataframe tbody tr th {\n",
       "        vertical-align: top;\n",
       "    }\n",
       "\n",
       "    .dataframe thead th {\n",
       "        text-align: right;\n",
       "    }\n",
       "</style>\n",
       "<table border=\"1\" class=\"dataframe\">\n",
       "  <thead>\n",
       "    <tr style=\"text-align: right;\">\n",
       "      <th></th>\n",
       "      <th>close</th>\n",
       "      <th>high</th>\n",
       "      <th>low</th>\n",
       "      <th>open</th>\n",
       "      <th>volumefrom</th>\n",
       "      <th>volumeto</th>\n",
       "      <th>timestamp</th>\n",
       "      <th>coin_id</th>\n",
       "    </tr>\n",
       "  </thead>\n",
       "  <tbody>\n",
       "    <tr>\n",
       "      <th>0</th>\n",
       "      <td>0.06687</td>\n",
       "      <td>0.4444</td>\n",
       "      <td>0.06687</td>\n",
       "      <td>0.06950</td>\n",
       "      <td>39437.24</td>\n",
       "      <td>2994.43</td>\n",
       "      <td>2017-08-10</td>\n",
       "      <td>0</td>\n",
       "    </tr>\n",
       "    <tr>\n",
       "      <th>1</th>\n",
       "      <td>0.16250</td>\n",
       "      <td>0.1830</td>\n",
       "      <td>0.06687</td>\n",
       "      <td>0.06687</td>\n",
       "      <td>6232.81</td>\n",
       "      <td>765.38</td>\n",
       "      <td>2017-08-11</td>\n",
       "      <td>0</td>\n",
       "    </tr>\n",
       "    <tr>\n",
       "      <th>2</th>\n",
       "      <td>0.19000</td>\n",
       "      <td>0.3880</td>\n",
       "      <td>0.12500</td>\n",
       "      <td>0.16250</td>\n",
       "      <td>10382.08</td>\n",
       "      <td>1885.11</td>\n",
       "      <td>2017-08-12</td>\n",
       "      <td>0</td>\n",
       "    </tr>\n",
       "    <tr>\n",
       "      <th>3</th>\n",
       "      <td>0.32000</td>\n",
       "      <td>0.3300</td>\n",
       "      <td>0.13100</td>\n",
       "      <td>0.19000</td>\n",
       "      <td>7936.82</td>\n",
       "      <td>1788.88</td>\n",
       "      <td>2017-08-13</td>\n",
       "      <td>0</td>\n",
       "    </tr>\n",
       "    <tr>\n",
       "      <th>4</th>\n",
       "      <td>1.00000</td>\n",
       "      <td>1.8000</td>\n",
       "      <td>0.32000</td>\n",
       "      <td>0.32000</td>\n",
       "      <td>3467.80</td>\n",
       "      <td>2905.58</td>\n",
       "      <td>2017-08-14</td>\n",
       "      <td>0</td>\n",
       "    </tr>\n",
       "  </tbody>\n",
       "</table>\n",
       "</div>"
      ],
      "text/plain": [
       "     close    high      low     open  volumefrom  volumeto   timestamp  \\\n",
       "0  0.06687  0.4444  0.06687  0.06950    39437.24   2994.43  2017-08-10   \n",
       "1  0.16250  0.1830  0.06687  0.06687     6232.81    765.38  2017-08-11   \n",
       "2  0.19000  0.3880  0.12500  0.16250    10382.08   1885.11  2017-08-12   \n",
       "3  0.32000  0.3300  0.13100  0.19000     7936.82   1788.88  2017-08-13   \n",
       "4  1.00000  1.8000  0.32000  0.32000     3467.80   2905.58  2017-08-14   \n",
       "\n",
       "   coin_id  \n",
       "0        0  \n",
       "1        0  \n",
       "2        0  \n",
       "3        0  \n",
       "4        0  "
      ]
     },
     "execution_count": 81,
     "metadata": {},
     "output_type": "execute_result"
    }
   ],
   "source": [
    "pricing_df3.head()"
   ]
  },
  {
   "cell_type": "markdown",
   "metadata": {},
   "source": [
    "# Google Trends table"
   ]
  },
  {
   "cell_type": "code",
   "execution_count": 78,
   "metadata": {},
   "outputs": [
    {
     "name": "stderr",
     "output_type": "stream",
     "text": [
      "/anaconda3/lib/python3.7/site-packages/numpy/core/_methods.py:28: RuntimeWarning: invalid value encountered in reduce\n",
      "  return umr_maximum(a, axis, None, out, keepdims, initial)\n"
     ]
    }
   ],
   "source": [
    "#Pulling google trends data from cryptory \n",
    "\n",
    "i=1\n",
    "google_data_list = []\n",
    "for name in list(df_names['name']):\n",
    "    if(i>0 and i<101):\n",
    "        i=i+1\n",
    "        kw_list = []\n",
    "        kw_list.append(name)\n",
    "        try:\n",
    "            data = my_cryptory.get_google_trends(kw_list)\n",
    "            google_data_list.append(data)\n",
    "        except:\n",
    "            continue;"
   ]
  },
  {
   "cell_type": "code",
   "execution_count": 111,
   "metadata": {},
   "outputs": [
    {
     "name": "stderr",
     "output_type": "stream",
     "text": [
      "/anaconda3/lib/python3.7/site-packages/ipykernel_launcher.py:1: FutureWarning: Sorting because non-concatenation axis is not aligned. A future version\n",
      "of pandas will change to not sort by default.\n",
      "\n",
      "To accept the future behavior, pass 'sort=False'.\n",
      "\n",
      "To retain the current behavior and silence the warning, pass 'sort=True'.\n",
      "\n",
      "  \"\"\"Entry point for launching an IPython kernel.\n"
     ]
    }
   ],
   "source": [
    "trend_df1 = pd.concat(google_data_list)\n",
    "\n",
    "trend_df2 = pd.DataFrame(df1.pivot_table(index = 'date').unstack()).reset_index()"
   ]
  },
  {
   "cell_type": "code",
   "execution_count": 118,
   "metadata": {},
   "outputs": [],
   "source": [
    "#Adding coin_id column\n",
    "trend_df3 = trend_df2.merge(df_names[['name', 'coin_id']], how = 'left', left_on = 'level_0', right_on = 'name')\n",
    "\n",
    "#Dropping columns\n",
    "trend_df3 = trend_df3.drop(['level_0', 'name'], axis = 1)\n",
    "\n",
    "#Rename columns\n",
    "trend_df3.columns = ['date', 'trend', 'coin_id']"
   ]
  },
  {
   "cell_type": "code",
   "execution_count": 119,
   "metadata": {},
   "outputs": [
    {
     "data": {
      "text/html": [
       "<div>\n",
       "<style scoped>\n",
       "    .dataframe tbody tr th:only-of-type {\n",
       "        vertical-align: middle;\n",
       "    }\n",
       "\n",
       "    .dataframe tbody tr th {\n",
       "        vertical-align: top;\n",
       "    }\n",
       "\n",
       "    .dataframe thead th {\n",
       "        text-align: right;\n",
       "    }\n",
       "</style>\n",
       "<table border=\"1\" class=\"dataframe\">\n",
       "  <thead>\n",
       "    <tr style=\"text-align: right;\">\n",
       "      <th></th>\n",
       "      <th>date</th>\n",
       "      <th>trend</th>\n",
       "      <th>coin_id</th>\n",
       "    </tr>\n",
       "  </thead>\n",
       "  <tbody>\n",
       "    <tr>\n",
       "      <th>0</th>\n",
       "      <td>2017-01-01</td>\n",
       "      <td>14.939345</td>\n",
       "      <td>0</td>\n",
       "    </tr>\n",
       "    <tr>\n",
       "      <th>1</th>\n",
       "      <td>2017-01-02</td>\n",
       "      <td>14.939345</td>\n",
       "      <td>0</td>\n",
       "    </tr>\n",
       "    <tr>\n",
       "      <th>2</th>\n",
       "      <td>2017-01-03</td>\n",
       "      <td>15.686312</td>\n",
       "      <td>0</td>\n",
       "    </tr>\n",
       "    <tr>\n",
       "      <th>3</th>\n",
       "      <td>2017-01-04</td>\n",
       "      <td>24.276435</td>\n",
       "      <td>0</td>\n",
       "    </tr>\n",
       "    <tr>\n",
       "      <th>4</th>\n",
       "      <td>2017-01-05</td>\n",
       "      <td>22.035534</td>\n",
       "      <td>0</td>\n",
       "    </tr>\n",
       "  </tbody>\n",
       "</table>\n",
       "</div>"
      ],
      "text/plain": [
       "        date      trend  coin_id\n",
       "0 2017-01-01  14.939345        0\n",
       "1 2017-01-02  14.939345        0\n",
       "2 2017-01-03  15.686312        0\n",
       "3 2017-01-04  24.276435        0\n",
       "4 2017-01-05  22.035534        0"
      ]
     },
     "execution_count": 119,
     "metadata": {},
     "output_type": "execute_result"
    }
   ],
   "source": [
    "trend_df3.head()"
   ]
  },
  {
   "cell_type": "markdown",
   "metadata": {},
   "source": [
    "# Twitter Table"
   ]
  },
  {
   "cell_type": "code",
   "execution_count": 125,
   "metadata": {},
   "outputs": [],
   "source": [
    "import re\n",
    "import csv\n",
    "import requests\n",
    "from bs4 import BeautifulSoup\n",
    "from IPython.display import HTML"
   ]
  },
  {
   "cell_type": "code",
   "execution_count": 182,
   "metadata": {},
   "outputs": [],
   "source": [
    "import pandas as pd\n",
    "tweets_df = pd.DataFrame({'Date': [], 'No. of Tweets': [], 'Coin': []})\n",
    "\n",
    "for i in range(0,len(df_names['symbol'])-1):\n",
    "    #len(coin_name[\"symbol\"])-1\n",
    "\n",
    "    coin = df_names['symbol'][i]\n",
    "    url = 'https://bitinfocharts.com/comparison/tweets-'+coin.lower()+'.html'\n",
    "    headers = {'User-Agent': \"Chrome/54.0.2840.90\"}\n",
    "    response = requests.get(url, headers=headers)\n",
    "    html = response.text \n",
    "\n",
    "    from bs4 import BeautifulSoup\n",
    "    soup = BeautifulSoup(html, 'html.parser')\n",
    "\n",
    "    x = soup.find_all('script')\n",
    "\n",
    "    data_1 = re.findall(r'(\\[new\\sDate.*\\]])', str(x))\n",
    "    data_1 = str(data_1)\n",
    "    \n",
    "    \n",
    "    if data_1 == '[]':\n",
    "        continue\n",
    "    data_2 = data_1.split(\"],[\")\n",
    "    data_2[0] = data_2[0][3:]\n",
    "    data_2[len(data_2) - 1] = data_2[len(data_2) - 1][:-4]\n",
    "    data_pd = pd.DataFrame(data_2)\n",
    "    data_clean = data_pd[0].str.split(\",\", expand = True)\n",
    "    data_clean = data_clean.iloc[:, 0:2]\n",
    "    data_clean.columns = ['Date', 'No. of Tweets']\n",
    "    data_clean[\"Date\"] = data_clean[\"Date\"].str.slice(10,20)\n",
    "    data_clean[\"Coin\"] = coin.upper()\n",
    "    tweets_df = tweets_df.append(data_clean, ignore_index = True)"
   ]
  },
  {
   "cell_type": "code",
   "execution_count": 183,
   "metadata": {},
   "outputs": [],
   "source": [
    "#Convert Date into datetime object\n",
    "tweets_df['Date'] = tweets_df['Date'].astype('datetime64')"
   ]
  },
  {
   "cell_type": "code",
   "execution_count": 184,
   "metadata": {},
   "outputs": [],
   "source": [
    "#Remove the null rows\n",
    "tweets_df = tweets_df[tweets_df['No. of Tweets'] != 'null']"
   ]
  },
  {
   "cell_type": "code",
   "execution_count": 185,
   "metadata": {},
   "outputs": [],
   "source": [
    "#Convert No. of Tweets into int object\n",
    "tweets_df['No. of Tweets'] = tweets_df['No. of Tweets'].astype('int')"
   ]
  },
  {
   "cell_type": "code",
   "execution_count": 186,
   "metadata": {},
   "outputs": [],
   "source": [
    "#Adding coin_id column\n",
    "tweets_df = tweets_df.merge(df_names[['symbol', 'coin_id']], how = 'left', left_on = 'Coin', right_on = 'symbol')\n",
    "\n",
    "#Drop redundant name columns\n",
    "tweets_df = tweets_df.drop(['Coin', 'symbol'], axis = 1)"
   ]
  },
  {
   "cell_type": "code",
   "execution_count": 187,
   "metadata": {},
   "outputs": [
    {
     "data": {
      "text/html": [
       "<div>\n",
       "<style scoped>\n",
       "    .dataframe tbody tr th:only-of-type {\n",
       "        vertical-align: middle;\n",
       "    }\n",
       "\n",
       "    .dataframe tbody tr th {\n",
       "        vertical-align: top;\n",
       "    }\n",
       "\n",
       "    .dataframe thead th {\n",
       "        text-align: right;\n",
       "    }\n",
       "</style>\n",
       "<table border=\"1\" class=\"dataframe\">\n",
       "  <thead>\n",
       "    <tr style=\"text-align: right;\">\n",
       "      <th></th>\n",
       "      <th>Date</th>\n",
       "      <th>No. of Tweets</th>\n",
       "      <th>coin_id</th>\n",
       "    </tr>\n",
       "  </thead>\n",
       "  <tbody>\n",
       "    <tr>\n",
       "      <th>0</th>\n",
       "      <td>2018-01-08</td>\n",
       "      <td>7</td>\n",
       "      <td>0</td>\n",
       "    </tr>\n",
       "    <tr>\n",
       "      <th>1</th>\n",
       "      <td>2018-01-09</td>\n",
       "      <td>20</td>\n",
       "      <td>0</td>\n",
       "    </tr>\n",
       "    <tr>\n",
       "      <th>2</th>\n",
       "      <td>2018-01-10</td>\n",
       "      <td>21</td>\n",
       "      <td>0</td>\n",
       "    </tr>\n",
       "    <tr>\n",
       "      <th>3</th>\n",
       "      <td>2018-01-11</td>\n",
       "      <td>4</td>\n",
       "      <td>0</td>\n",
       "    </tr>\n",
       "    <tr>\n",
       "      <th>4</th>\n",
       "      <td>2018-01-12</td>\n",
       "      <td>6</td>\n",
       "      <td>0</td>\n",
       "    </tr>\n",
       "  </tbody>\n",
       "</table>\n",
       "</div>"
      ],
      "text/plain": [
       "        Date  No. of Tweets  coin_id\n",
       "0 2018-01-08              7        0\n",
       "1 2018-01-09             20        0\n",
       "2 2018-01-10             21        0\n",
       "3 2018-01-11              4        0\n",
       "4 2018-01-12              6        0"
      ]
     },
     "execution_count": 187,
     "metadata": {},
     "output_type": "execute_result"
    }
   ],
   "source": [
    "tweets_df.head()"
   ]
  },
  {
   "cell_type": "markdown",
   "metadata": {},
   "source": [
    "# Reddit Subscribers"
   ]
  },
  {
   "cell_type": "code",
   "execution_count": 189,
   "metadata": {},
   "outputs": [],
   "source": [
    "# load package\n",
    "from cryptory import Cryptory\n",
    "\n",
    "# initialise object \n",
    "# pull data from start of 2017 to present day\n",
    "my_cryptory = Cryptory(from_date = \"2017-01-01\",to_date=\"2019-01-01\", ascending=True)"
   ]
  },
  {
   "cell_type": "code",
   "execution_count": 200,
   "metadata": {},
   "outputs": [],
   "source": [
    "subreddit_list = []\n",
    "for name in list(df_names['symbol']):\n",
    "    try:\n",
    "        subred = my_cryptory.extract_reddit_metrics(subreddit = name, metric = \"total-subscribers\", col_label=\"\", sub_col=True)\n",
    "        subreddit_list.append(subred)\n",
    "    except:\n",
    "        pass"
   ]
  },
  {
   "cell_type": "code",
   "execution_count": 204,
   "metadata": {},
   "outputs": [
    {
     "ename": "TypeError",
     "evalue": "cannot concatenate object of type \"<class 'ValueError'>\"; only pd.Series, pd.DataFrame, and pd.Panel (deprecated) objs are valid",
     "output_type": "error",
     "traceback": [
      "\u001b[0;31m---------------------------------------------------------------------------\u001b[0m",
      "\u001b[0;31mTypeError\u001b[0m                                 Traceback (most recent call last)",
      "\u001b[0;32m<ipython-input-204-211caa7cf6cc>\u001b[0m in \u001b[0;36m<module>\u001b[0;34m\u001b[0m\n\u001b[0;32m----> 1\u001b[0;31m \u001b[0mpd\u001b[0m\u001b[0;34m.\u001b[0m\u001b[0mconcat\u001b[0m\u001b[0;34m(\u001b[0m\u001b[0msubreddit_list\u001b[0m\u001b[0;34m)\u001b[0m\u001b[0;34m\u001b[0m\u001b[0;34m\u001b[0m\u001b[0m\n\u001b[0m",
      "\u001b[0;32m/anaconda3/lib/python3.7/site-packages/pandas/core/reshape/concat.py\u001b[0m in \u001b[0;36mconcat\u001b[0;34m(objs, axis, join, join_axes, ignore_index, keys, levels, names, verify_integrity, sort, copy)\u001b[0m\n\u001b[1;32m    223\u001b[0m                        \u001b[0mkeys\u001b[0m\u001b[0;34m=\u001b[0m\u001b[0mkeys\u001b[0m\u001b[0;34m,\u001b[0m \u001b[0mlevels\u001b[0m\u001b[0;34m=\u001b[0m\u001b[0mlevels\u001b[0m\u001b[0;34m,\u001b[0m \u001b[0mnames\u001b[0m\u001b[0;34m=\u001b[0m\u001b[0mnames\u001b[0m\u001b[0;34m,\u001b[0m\u001b[0;34m\u001b[0m\u001b[0;34m\u001b[0m\u001b[0m\n\u001b[1;32m    224\u001b[0m                        \u001b[0mverify_integrity\u001b[0m\u001b[0;34m=\u001b[0m\u001b[0mverify_integrity\u001b[0m\u001b[0;34m,\u001b[0m\u001b[0;34m\u001b[0m\u001b[0;34m\u001b[0m\u001b[0m\n\u001b[0;32m--> 225\u001b[0;31m                        copy=copy, sort=sort)\n\u001b[0m\u001b[1;32m    226\u001b[0m     \u001b[0;32mreturn\u001b[0m \u001b[0mop\u001b[0m\u001b[0;34m.\u001b[0m\u001b[0mget_result\u001b[0m\u001b[0;34m(\u001b[0m\u001b[0;34m)\u001b[0m\u001b[0;34m\u001b[0m\u001b[0;34m\u001b[0m\u001b[0m\n\u001b[1;32m    227\u001b[0m \u001b[0;34m\u001b[0m\u001b[0m\n",
      "\u001b[0;32m/anaconda3/lib/python3.7/site-packages/pandas/core/reshape/concat.py\u001b[0m in \u001b[0;36m__init__\u001b[0;34m(self, objs, axis, join, join_axes, keys, levels, names, ignore_index, verify_integrity, copy, sort)\u001b[0m\n\u001b[1;32m    284\u001b[0m                        \u001b[0;34m' only pd.Series, pd.DataFrame, and pd.Panel'\u001b[0m\u001b[0;34m\u001b[0m\u001b[0;34m\u001b[0m\u001b[0m\n\u001b[1;32m    285\u001b[0m                        ' (deprecated) objs are valid'.format(type(obj)))\n\u001b[0;32m--> 286\u001b[0;31m                 \u001b[0;32mraise\u001b[0m \u001b[0mTypeError\u001b[0m\u001b[0;34m(\u001b[0m\u001b[0mmsg\u001b[0m\u001b[0;34m)\u001b[0m\u001b[0;34m\u001b[0m\u001b[0;34m\u001b[0m\u001b[0m\n\u001b[0m\u001b[1;32m    287\u001b[0m \u001b[0;34m\u001b[0m\u001b[0m\n\u001b[1;32m    288\u001b[0m             \u001b[0;31m# consolidate\u001b[0m\u001b[0;34m\u001b[0m\u001b[0;34m\u001b[0m\u001b[0;34m\u001b[0m\u001b[0m\n",
      "\u001b[0;31mTypeError\u001b[0m: cannot concatenate object of type \"<class 'ValueError'>\"; only pd.Series, pd.DataFrame, and pd.Panel (deprecated) objs are valid"
     ]
    }
   ],
   "source": [
    "pd.concat(subreddit_list,)"
   ]
  },
  {
   "cell_type": "markdown",
   "metadata": {},
   "source": [
    "# Saving our tables into CSV files"
   ]
  },
  {
   "cell_type": "code",
   "execution_count": 120,
   "metadata": {},
   "outputs": [],
   "source": [
    "reddit_data.to_csv(path_or_buf = '/Users/nazihkalo/Desktop/UChicago_Analytics/Quarter 1/DEPA/Final Project/Data/reddit_posts.csv')"
   ]
  },
  {
   "cell_type": "code",
   "execution_count": 122,
   "metadata": {},
   "outputs": [],
   "source": [
    "coin_reddit_join.to_csv(path_or_buf = '/Users/nazihkalo/Desktop/UChicago_Analytics/Quarter 1/DEPA/Final Project/Data/coin_reddit.csv')"
   ]
  },
  {
   "cell_type": "code",
   "execution_count": 123,
   "metadata": {},
   "outputs": [],
   "source": [
    "trend_df3.to_csv(path_or_buf = '/Users/nazihkalo/Desktop/UChicago_Analytics/Quarter 1/DEPA/Final Project/Data/google_trends.csv')"
   ]
  },
  {
   "cell_type": "code",
   "execution_count": 124,
   "metadata": {},
   "outputs": [],
   "source": [
    "pricing_df3.to_csv(path_or_buf = '/Users/nazihkalo/Desktop/UChicago_Analytics/Quarter 1/DEPA/Final Project/Data/pricing.csv')"
   ]
  },
  {
   "cell_type": "code",
   "execution_count": 188,
   "metadata": {},
   "outputs": [],
   "source": [
    "tweets_df.to_csv(path_or_buf = '/Users/nazihkalo/Desktop/UChicago_Analytics/Quarter 1/DEPA/Final Project/Data/tweets.csv')"
   ]
  },
  {
   "cell_type": "code",
   "execution_count": null,
   "metadata": {},
   "outputs": [],
   "source": []
  }
 ],
 "metadata": {
  "kernelspec": {
   "display_name": "Python 3",
   "language": "python",
   "name": "python3"
  },
  "language_info": {
   "codemirror_mode": {
    "name": "ipython",
    "version": 3
   },
   "file_extension": ".py",
   "mimetype": "text/x-python",
   "name": "python",
   "nbconvert_exporter": "python",
   "pygments_lexer": "ipython3",
   "version": "3.7.1"
  }
 },
 "nbformat": 4,
 "nbformat_minor": 2
}
